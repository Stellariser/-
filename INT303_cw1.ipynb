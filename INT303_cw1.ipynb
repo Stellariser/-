{
  "nbformat": 4,
  "nbformat_minor": 0,
  "metadata": {
    "colab": {
      "provenance": [],
      "collapsed_sections": [],
      "include_colab_link": true
    },
    "kernelspec": {
      "name": "python3",
      "display_name": "Python 3"
    },
    "language_info": {
      "name": "python"
    }
  },
  "cells": [
    {
      "cell_type": "markdown",
      "metadata": {
        "id": "view-in-github",
        "colab_type": "text"
      },
      "source": [
        "<a href=\"https://colab.research.google.com/github/Stellariser/-/blob/main/INT303_cw1.ipynb\" target=\"_parent\"><img src=\"https://colab.research.google.com/assets/colab-badge.svg\" alt=\"Open In Colab\"/></a>"
      ]
    },
    {
      "cell_type": "markdown",
      "source": [
        "# Task1: Data Scraping"
      ],
      "metadata": {
        "id": "RF8mI8vEKHqE"
      }
    },
    {
      "cell_type": "code",
      "source": [
        "#@title Dependencies\n",
        "!pip install requests\n",
        "!pip install bs4\n",
        "!pip install pandas\n",
        "!pip install tqdm\n",
        "!pip install seaborn\n",
        "!pip install re\n",
        "import requests\n",
        "import bs4"
      ],
      "metadata": {
        "colab": {
          "base_uri": "https://localhost:8080/"
        },
        "id": "l9C0nF3E3E_A",
        "outputId": "2b986b04-5676-4bee-e4c3-21486ac64682"
      },
      "execution_count": null,
      "outputs": [
        {
          "output_type": "stream",
          "name": "stdout",
          "text": [
            "Looking in indexes: https://pypi.org/simple, https://us-python.pkg.dev/colab-wheels/public/simple/\n",
            "Requirement already satisfied: requests in /usr/local/lib/python3.7/dist-packages (2.23.0)\n",
            "Requirement already satisfied: idna<3,>=2.5 in /usr/local/lib/python3.7/dist-packages (from requests) (2.10)\n",
            "Requirement already satisfied: certifi>=2017.4.17 in /usr/local/lib/python3.7/dist-packages (from requests) (2022.9.24)\n",
            "Requirement already satisfied: urllib3!=1.25.0,!=1.25.1,<1.26,>=1.21.1 in /usr/local/lib/python3.7/dist-packages (from requests) (1.24.3)\n",
            "Requirement already satisfied: chardet<4,>=3.0.2 in /usr/local/lib/python3.7/dist-packages (from requests) (3.0.4)\n",
            "Looking in indexes: https://pypi.org/simple, https://us-python.pkg.dev/colab-wheels/public/simple/\n",
            "Requirement already satisfied: bs4 in /usr/local/lib/python3.7/dist-packages (0.0.1)\n",
            "Requirement already satisfied: beautifulsoup4 in /usr/local/lib/python3.7/dist-packages (from bs4) (4.6.3)\n",
            "Looking in indexes: https://pypi.org/simple, https://us-python.pkg.dev/colab-wheels/public/simple/\n",
            "Requirement already satisfied: pandas in /usr/local/lib/python3.7/dist-packages (1.3.5)\n",
            "Requirement already satisfied: python-dateutil>=2.7.3 in /usr/local/lib/python3.7/dist-packages (from pandas) (2.8.2)\n",
            "Requirement already satisfied: numpy>=1.17.3 in /usr/local/lib/python3.7/dist-packages (from pandas) (1.21.6)\n",
            "Requirement already satisfied: pytz>=2017.3 in /usr/local/lib/python3.7/dist-packages (from pandas) (2022.4)\n",
            "Requirement already satisfied: six>=1.5 in /usr/local/lib/python3.7/dist-packages (from python-dateutil>=2.7.3->pandas) (1.15.0)\n",
            "Looking in indexes: https://pypi.org/simple, https://us-python.pkg.dev/colab-wheels/public/simple/\n",
            "Requirement already satisfied: tqdm in /usr/local/lib/python3.7/dist-packages (4.64.1)\n",
            "Looking in indexes: https://pypi.org/simple, https://us-python.pkg.dev/colab-wheels/public/simple/\n",
            "Requirement already satisfied: seaborn in /usr/local/lib/python3.7/dist-packages (0.11.2)\n",
            "Requirement already satisfied: numpy>=1.15 in /usr/local/lib/python3.7/dist-packages (from seaborn) (1.21.6)\n",
            "Requirement already satisfied: matplotlib>=2.2 in /usr/local/lib/python3.7/dist-packages (from seaborn) (3.2.2)\n",
            "Requirement already satisfied: scipy>=1.0 in /usr/local/lib/python3.7/dist-packages (from seaborn) (1.7.3)\n",
            "Requirement already satisfied: pandas>=0.23 in /usr/local/lib/python3.7/dist-packages (from seaborn) (1.3.5)\n",
            "Requirement already satisfied: cycler>=0.10 in /usr/local/lib/python3.7/dist-packages (from matplotlib>=2.2->seaborn) (0.11.0)\n",
            "Requirement already satisfied: kiwisolver>=1.0.1 in /usr/local/lib/python3.7/dist-packages (from matplotlib>=2.2->seaborn) (1.4.4)\n",
            "Requirement already satisfied: pyparsing!=2.0.4,!=2.1.2,!=2.1.6,>=2.0.1 in /usr/local/lib/python3.7/dist-packages (from matplotlib>=2.2->seaborn) (3.0.9)\n",
            "Requirement already satisfied: python-dateutil>=2.1 in /usr/local/lib/python3.7/dist-packages (from matplotlib>=2.2->seaborn) (2.8.2)\n",
            "Requirement already satisfied: typing-extensions in /usr/local/lib/python3.7/dist-packages (from kiwisolver>=1.0.1->matplotlib>=2.2->seaborn) (4.1.1)\n",
            "Requirement already satisfied: pytz>=2017.3 in /usr/local/lib/python3.7/dist-packages (from pandas>=0.23->seaborn) (2022.4)\n",
            "Requirement already satisfied: six>=1.5 in /usr/local/lib/python3.7/dist-packages (from python-dateutil>=2.1->matplotlib>=2.2->seaborn) (1.15.0)\n",
            "Looking in indexes: https://pypi.org/simple, https://us-python.pkg.dev/colab-wheels/public/simple/\n",
            "\u001b[31mERROR: Could not find a version that satisfies the requirement re (from versions: none)\u001b[0m\n",
            "\u001b[31mERROR: No matching distribution found for re\u001b[0m\n"
          ]
        }
      ]
    },
    {
      "cell_type": "code",
      "source": [
        "base_url = 'http://books.toscrape.com/catalogue/page-{}.html'\n",
        "for i in range(1,51):\n",
        "    print(base_url.format(i))"
      ],
      "metadata": {
        "colab": {
          "base_uri": "https://localhost:8080/"
        },
        "id": "zvAFEN7_3YVm",
        "outputId": "139a524e-7118-490e-cecb-5d83f503f2d9"
      },
      "execution_count": null,
      "outputs": [
        {
          "output_type": "stream",
          "name": "stdout",
          "text": [
            "http://books.toscrape.com/catalogue/page-1.html\n",
            "http://books.toscrape.com/catalogue/page-2.html\n",
            "http://books.toscrape.com/catalogue/page-3.html\n",
            "http://books.toscrape.com/catalogue/page-4.html\n",
            "http://books.toscrape.com/catalogue/page-5.html\n",
            "http://books.toscrape.com/catalogue/page-6.html\n",
            "http://books.toscrape.com/catalogue/page-7.html\n",
            "http://books.toscrape.com/catalogue/page-8.html\n",
            "http://books.toscrape.com/catalogue/page-9.html\n",
            "http://books.toscrape.com/catalogue/page-10.html\n",
            "http://books.toscrape.com/catalogue/page-11.html\n",
            "http://books.toscrape.com/catalogue/page-12.html\n",
            "http://books.toscrape.com/catalogue/page-13.html\n",
            "http://books.toscrape.com/catalogue/page-14.html\n",
            "http://books.toscrape.com/catalogue/page-15.html\n",
            "http://books.toscrape.com/catalogue/page-16.html\n",
            "http://books.toscrape.com/catalogue/page-17.html\n",
            "http://books.toscrape.com/catalogue/page-18.html\n",
            "http://books.toscrape.com/catalogue/page-19.html\n",
            "http://books.toscrape.com/catalogue/page-20.html\n",
            "http://books.toscrape.com/catalogue/page-21.html\n",
            "http://books.toscrape.com/catalogue/page-22.html\n",
            "http://books.toscrape.com/catalogue/page-23.html\n",
            "http://books.toscrape.com/catalogue/page-24.html\n",
            "http://books.toscrape.com/catalogue/page-25.html\n",
            "http://books.toscrape.com/catalogue/page-26.html\n",
            "http://books.toscrape.com/catalogue/page-27.html\n",
            "http://books.toscrape.com/catalogue/page-28.html\n",
            "http://books.toscrape.com/catalogue/page-29.html\n",
            "http://books.toscrape.com/catalogue/page-30.html\n",
            "http://books.toscrape.com/catalogue/page-31.html\n",
            "http://books.toscrape.com/catalogue/page-32.html\n",
            "http://books.toscrape.com/catalogue/page-33.html\n",
            "http://books.toscrape.com/catalogue/page-34.html\n",
            "http://books.toscrape.com/catalogue/page-35.html\n",
            "http://books.toscrape.com/catalogue/page-36.html\n",
            "http://books.toscrape.com/catalogue/page-37.html\n",
            "http://books.toscrape.com/catalogue/page-38.html\n",
            "http://books.toscrape.com/catalogue/page-39.html\n",
            "http://books.toscrape.com/catalogue/page-40.html\n",
            "http://books.toscrape.com/catalogue/page-41.html\n",
            "http://books.toscrape.com/catalogue/page-42.html\n",
            "http://books.toscrape.com/catalogue/page-43.html\n",
            "http://books.toscrape.com/catalogue/page-44.html\n",
            "http://books.toscrape.com/catalogue/page-45.html\n",
            "http://books.toscrape.com/catalogue/page-46.html\n",
            "http://books.toscrape.com/catalogue/page-47.html\n",
            "http://books.toscrape.com/catalogue/page-48.html\n",
            "http://books.toscrape.com/catalogue/page-49.html\n",
            "http://books.toscrape.com/catalogue/page-50.html\n"
          ]
        }
      ]
    },
    {
      "cell_type": "code",
      "source": [
        "#@title Attempts\n",
        "result = requests.get('http://books.toscrape.com/catalogue/page-1.html')\n",
        "soup = bs4.BeautifulSoup(result.text, 'lxml')\n",
        "# soup\n",
        "soup.select('.product_pod')\n",
        "print(len(soup))"
      ],
      "metadata": {
        "id": "XxsPDHU53jhj",
        "colab": {
          "base_uri": "https://localhost:8080/"
        },
        "outputId": "3a7712f2-44fa-4ff1-c504-9e974a04549a"
      },
      "execution_count": null,
      "outputs": [
        {
          "output_type": "stream",
          "name": "stdout",
          "text": [
            "7\n"
          ]
        }
      ]
    },
    {
      "cell_type": "code",
      "source": [
        "#@title Start Scraping\n",
        "titles = []\n",
        "urls = []\n",
        "base_book_path = 'https://books.toscrape.com/catalogue/{}'\n",
        "\n",
        "for i in range (1,51):\n",
        "    scrape_url = base_url.format(i)\n",
        "\n",
        "    result = requests.get(scrape_url)\n",
        "    soup = bs4.BeautifulSoup(result.text, 'lxml')\n",
        "    books = soup.select('.product_pod')\n",
        "\n",
        "    for book in books:\n",
        "        url = base_book_path.format(book.select('a')[0]['href'])\n",
        "        title = book.select('a')[1]['title']\n",
        "        titles.append(title)\n",
        "        urls.append(url)"
      ],
      "metadata": {
        "id": "EsK5vyOB4khS"
      },
      "execution_count": null,
      "outputs": []
    },
    {
      "cell_type": "code",
      "source": [
        "# titles\n",
        "# urls\n",
        "print(len(titles))\n",
        "print(len(urls))"
      ],
      "metadata": {
        "colab": {
          "base_uri": "https://localhost:8080/"
        },
        "id": "27u6H8e14mKs",
        "outputId": "f29031a4-ae08-458a-bd19-3072e85deeed"
      },
      "execution_count": null,
      "outputs": [
        {
          "output_type": "stream",
          "name": "stdout",
          "text": [
            "1000\n",
            "1000\n"
          ]
        }
      ]
    },
    {
      "cell_type": "code",
      "source": [
        "import tqdm\n",
        "import re\n",
        "num_rev = []\n",
        "rating = []\n",
        "prices = []\n",
        "Product_types = []\n",
        "categories = []\n",
        "availability = []\n",
        "i = 0\n",
        "\n",
        "dic = {\"One\":1,\"Two\":2,\"Three\":3,\"Four\":4,\"Five\":5,\"Zero\":0}\n",
        "\n",
        "for idx, url in enumerate(tqdm.tqdm(urls)):\n",
        "  result = requests.get(url)\n",
        "  soup = bs4.BeautifulSoup(result.text, 'lxml')\n",
        "  table = soup.select('td')\n",
        "  links = soup.select('a')\n",
        "  rating_prop = soup.select('p')[2]['class'][1]\n",
        "  # print(rating_prop)\n",
        "  rating.append(dic[rating_prop])\n",
        "  # print(rating)\n",
        "  category = links[3].contents[0]\n",
        "  # print('cat = ', category)\n",
        "  categories.append(category)\n",
        "  rev = table[6].contents[0]\n",
        "  # print('# rev = ', rev)\n",
        "  num_rev.append(rev)\n",
        "  ava = table[5].contents[0]\n",
        "  # print('avails = ', ava)\n",
        "  value = re.findall(r'\\d+',ava)[0]\n",
        "  # print(value)\n",
        "  availability.append(value)\n",
        "  price = table[2].contents[0][-5:]\n",
        "  # print('price = ',price)\n",
        "  prices.append(price)\n",
        "  Product_type = table[1].contents[0]\n",
        "  # print('type = ' ,Product_type)\n",
        "  Product_types.append(Product_type)"
      ],
      "metadata": {
        "colab": {
          "base_uri": "https://localhost:8080/"
        },
        "id": "F-tMvuXs9nqg",
        "outputId": "16f34c0e-83a7-4627-9b90-849f1c831cdd"
      },
      "execution_count": null,
      "outputs": [
        {
          "output_type": "stream",
          "name": "stderr",
          "text": [
            " 10%|█         | 104/1000 [01:21<11:39,  1.28it/s]"
          ]
        }
      ]
    },
    {
      "cell_type": "code",
      "source": [
        "#@title Checking Length\n",
        "print(len(num_rev)) \n",
        "print(len(rating))\n",
        "print(len(prices))\n",
        "print(len(Product_types))\n",
        "print(len(categories))\n",
        "print(len(availability))"
      ],
      "metadata": {
        "id": "ERmN-Je3FVhh"
      },
      "execution_count": null,
      "outputs": []
    },
    {
      "cell_type": "code",
      "source": [
        "#@title Save as CSV\n",
        "import pandas as pd\n",
        "general_list = [num_rev, rating, prices, Product_types, categories, availability]\n",
        "cols=['reviews', 'rating', 'prices', 'type', 'categories', 'availability']\n",
        "df = pd.DataFrame(columns=titles, index=cols, data=general_list)\n",
        "df = df.transpose()\n",
        "df.to_csv('./df.csv', encoding=\"utf_8_sig\")"
      ],
      "metadata": {
        "id": "dzEUV5kRGLz-"
      },
      "execution_count": null,
      "outputs": []
    },
    {
      "cell_type": "markdown",
      "source": [
        "## Result Visualization"
      ],
      "metadata": {
        "id": "YZ5aJfBudvjU"
      }
    },
    {
      "cell_type": "code",
      "source": [
        "df"
      ],
      "metadata": {
        "id": "wkcsStCedyiu"
      },
      "execution_count": null,
      "outputs": []
    },
    {
      "cell_type": "markdown",
      "source": [
        "# Task2: Exploratory Data Analysis"
      ],
      "metadata": {
        "id": "vyCugp9QKM27"
      }
    },
    {
      "cell_type": "markdown",
      "source": [
        "If a data scientist want to purchase a book, here are few steps one would do to figure out what's one's best choice. \n",
        "\n",
        "***BEHOLD!***\n",
        "\n",
        "\n",
        "![8f69bbd2d539b60058e386e3fe50352ac75cb7da.gif](https://pic.jitudisk.com/public/2022/10/15/0429058e5828a.gif)"
      ],
      "metadata": {
        "id": "OQgt6Pl3hzY1"
      }
    },
    {
      "cell_type": "code",
      "source": [
        "import matplotlib\n",
        "import seaborn as sns\n",
        "import matplotlib.pyplot as plt\n",
        "import numpy as np"
      ],
      "metadata": {
        "id": "7TlsoVYjPKlU"
      },
      "execution_count": null,
      "outputs": []
    },
    {
      "cell_type": "markdown",
      "source": [
        "## Basic Information"
      ],
      "metadata": {
        "id": "h5r-hKzwKnJQ"
      }
    },
    {
      "cell_type": "markdown",
      "source": [
        "Before we start EDA, let's look into the basic information of the dataframe by default APIs. Firstly, by `df.info()`, we can check the statistics of the data structure and types."
      ],
      "metadata": {
        "id": "7BtTJz6eTlN0"
      }
    },
    {
      "cell_type": "code",
      "source": [
        "df.info()"
      ],
      "metadata": {
        "id": "efEb_LQRKGSO"
      },
      "execution_count": null,
      "outputs": []
    },
    {
      "cell_type": "markdown",
      "source": [
        "Secondly, by `df.describe()` we can look into the "
      ],
      "metadata": {
        "id": "_bWeKv0ap8cA"
      }
    },
    {
      "cell_type": "code",
      "source": [
        "df.describe()"
      ],
      "metadata": {
        "id": "IyBMfDhGKpkW"
      },
      "execution_count": null,
      "outputs": []
    },
    {
      "cell_type": "markdown",
      "source": [
        "## Basic Distribution"
      ],
      "metadata": {
        "id": "4iGGWWlMPOGS"
      }
    },
    {
      "cell_type": "markdown",
      "source": [
        "With all the information above, we would like to discover the general distribution for all the meaningful numerical attributes. \n",
        "\n",
        "The visualizations of distributions of ***Prices, Ratings and In stock number (Availability)*** are are provided below."
      ],
      "metadata": {
        "id": "Mexqjv8qe6Y3"
      }
    },
    {
      "cell_type": "code",
      "source": [
        "sns.distplot(df[\"rating\"])"
      ],
      "metadata": {
        "id": "Ul2Ufl0dKxrV"
      },
      "execution_count": null,
      "outputs": []
    },
    {
      "cell_type": "code",
      "source": [
        "sns.distplot(df[\"prices\"])"
      ],
      "metadata": {
        "id": "HaMUy3XEgSIf"
      },
      "execution_count": null,
      "outputs": []
    },
    {
      "cell_type": "code",
      "source": [
        "sns.distplot(df[\"availability\"])"
      ],
      "metadata": {
        "id": "5c-JI_3qgSsn"
      },
      "execution_count": null,
      "outputs": []
    },
    {
      "cell_type": "code",
      "source": [
        "cat_series = df['categories'].value_counts()\n",
        "y_cor = list(cat_series.values) \n",
        "x_cor = list(np.arange(len(y_cor)))\n",
        "\n",
        "f, ax = plt.subplots(figsize=(70, 30))\n",
        "sns.barplot(y=cat_series.values, x=cat_series.index,orient='v', alpha=0.8, color='red')\n",
        "for x,y in zip(x_cor,y_cor): \n",
        "    plt.text(x, y+1, '%s' % y, ha='center', va= 'bottom',fontsize=14)\n",
        "plt.title('Categories distribution', size = 40)\n",
        "plt.show()"
      ],
      "metadata": {
        "id": "dBZyCwk_NSDh"
      },
      "execution_count": null,
      "outputs": []
    },
    {
      "cell_type": "code",
      "source": [],
      "metadata": {
        "id": "cYAvJPUSTjo3"
      },
      "execution_count": null,
      "outputs": []
    }
  ]
}